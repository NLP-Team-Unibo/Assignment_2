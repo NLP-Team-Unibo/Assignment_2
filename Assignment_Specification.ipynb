{
 "cells": [
  {
   "cell_type": "markdown",
   "source": "# Assignment 2\n\n**Due to**: 23/12/2021 (dd/mm/yyyy)\n\n**Credits**: Andrea Galassi, Federico Ruggeri, Paolo Torroni\n\n**Summary**: Fact checking, Neural Languange Inference (**NLI**)",
   "metadata": {
    "id": "3GM9DBN-Qz3k",
    "cell_id": "00000-544f875f-febf-45f0-86d9-4b9fb29efc0c",
    "deepnote_cell_type": "markdown"
   }
  },
  {
   "cell_type": "markdown",
   "source": "# Intro\n\nThis assignment is centred on a particular and emerging NLP task, formally known as **fact checking** (or fake checking). As AI techniques become more and more powerful, reaching amazing results, such as image and text generation, it is more than ever necessary to build tools able to distinguish what is real from what is fake.\n\nHere we focus on a small portion of the whole fact checking problem, which aims to determine whether a given statement (fact) conveys a trustworthy information or not. \n\nMore precisely, given a set of evidences and a fact to verify, we would like our model to correctly predict whether the fact is true or fake.\n\nIn particular, we will see:\n\n*   Dataset preparation (analysis and pre-processing)\n*   Problem formulation: multi-input binary classification\n*   Defining an evaluation method\n*   Simple sentence embedding\n*   Neural building blocks\n*   Neural architecture extension",
   "metadata": {
    "id": "tO_-4CZeRCO7",
    "cell_id": "00001-fdef7fb1-ec90-43ed-8af3-60bd28188a79",
    "deepnote_cell_type": "markdown"
   }
  },
  {
   "cell_type": "markdown",
   "source": "# The FEVER dataset\n\nFirst of all, we need to choose a dataset. In this assignment we will rely on the [FEVER dataset](https://fever.ai).\n\nThe dataset is about facts taken from Wikipedia documents that have to be verified. In particular, facts could face manual modifications in order to define fake information or to give different formulations of the same concept.\n\nThe dataset consists of 185,445 claims manually verified against the introductory sections of Wikipedia pages and classified as ```Supported```, ```Refuted``` or ```NotEnoughInfo```. For the first two classes, systems and annotators need to also return the combination of sentences forming the necessary evidence supporting or refuting the claim.",
   "metadata": {
    "id": "hGDwg78PS_uy",
    "cell_id": "00002-aac721bc-f623-4a8a-ab17-8721f54f14e7",
    "deepnote_cell_type": "markdown"
   }
  },
  {
   "cell_type": "markdown",
   "source": "## 2.1 Dataset structure\n\nRelevant data is divided into two file types. Information concerning the fact to verify, its verdict and associated supporting/opposing statements are stored in **.jsonl** format. In particular, each JSON element is a python dictionary with the following relevant fields:\n\n*    **ID**: ID associated to the fact to verify.\n\n*    **Verifiable**: whether the fact has been verified or not: ```VERIFIABLE``` or ```NOT VERIFIABLE```.\n    \n*    **Label**: the final verdict on the fact to verify: ```SUPPORTS```, ```REFUTES``` or ```NOT ENOUGH INFO```.\n    \n*    **Claim**: the fact to verify.\n    \n*    **Evidence**: a nested list of document IDs along with the sentence ID that is associated to the fact to verify. In particular, each list element is a tuple of four elements: the first two are internal annotator IDs that can be safely ignored; the third term is the document ID (called URL) and the last one is the sentence number (ID) in the pointed document to consider.\n\n**Some Examples**\n\n---\n\n**Verifiable**\n\n```\n{\"id\": 202314, \"verifiable\": \"VERIFIABLE\", \"label\": \"REFUTES\", \"claim\": \"The New Jersey Turnpike has zero shoulders.\", \"evidence\": [[[238335, 240393, \"New_Jersey_Turnpike\", 15]]]}\n```\n\n---\n\n**Not Verifiable**\n\n```\n{\"id\": 113501, \"verifiable\": \"NOT VERIFIABLE\", \"label\": \"NOT ENOUGH INFO\", \"claim\": \"Grease had bad reviews.\", \"evidence\": [[[133128, null, null, null]]]}\n```\n\n---",
   "metadata": {
    "id": "4Oa5FpVpT7p4",
    "cell_id": "00003-4d0d00e3-adc8-4091-a590-121da8fe880a",
    "deepnote_cell_type": "markdown"
   }
  },
  {
   "cell_type": "markdown",
   "source": "## 2.2 Some simplifications and pre-processing\n\nWe are only interested in verifiable facts. Thus, we can filter out all non-verifiable claims.\n\nAdditionally, the current dataset format does not contain all necessary information for our classification purposes. In particular, we need to download Wikipedia documents and replace reported evidence IDs with the corresponding text.\n\nDon't worry about that! We are providing you the already pre-processed dataset so that you can concentrate on the classification pipeline (pre-processing, model definition, evaluation and training).\n\nYou can download the zip file containing all set splits (train, validation and test) of the FEVER dataset by clicking on this [link](https://drive.google.com/file/d/1wArZhF9_SHW17WKNGeLmX-QTYw9Zscl1/view?usp=sharing). Alternatively, run the below code cell to automatically download it on this notebook.\n\n**Note**: each dataset split is in .csv format. Feel free to inspect the whole dataset!",
   "metadata": {
    "id": "nex_8UM4VWuY",
    "cell_id": "00004-c6428b84-f9ec-4067-8835-cf5b36d7a587",
    "deepnote_cell_type": "markdown"
   }
  },
  {
   "cell_type": "code",
   "metadata": {
    "colab": {
     "base_uri": "https://localhost:8080/"
    },
    "id": "BspxZcRjW0NG",
    "outputId": "23dd2947-797f-4d0a-e307-7666d1e2e7ae",
    "cell_id": "00005-8ffe1d4d-6247-4e3d-aa8b-55ea5bf243fe",
    "deepnote_to_be_reexecuted": false,
    "source_hash": "9c5e32f7",
    "execution_start": 1638198971697,
    "execution_millis": 10133,
    "deepnote_cell_type": "code"
   },
   "source": "import os\nimport requests\nimport zipfile\n\ndef save_response_content(response, destination):\n    CHUNK_SIZE = 32768\n\n    with open(destination, \"wb\") as f:\n        for chunk in response.iter_content(CHUNK_SIZE):\n            if chunk: # filter out keep-alive new chunks\n                f.write(chunk)\n\ndef download_data(data_path):\n    toy_data_path = os.path.join(data_path, 'fever_data.zip')\n    toy_data_url_id = \"1wArZhF9_SHW17WKNGeLmX-QTYw9Zscl1\"\n    toy_url = \"https://docs.google.com/uc?export=download\"\n\n    if not os.path.exists(data_path):\n        os.makedirs(data_path)\n\n    if not os.path.exists(toy_data_path):\n        print(\"Downloading FEVER data splits...\")\n        with requests.Session() as current_session:\n            response = current_session.get(toy_url,\n                                   params={'id': toy_data_url_id},\n                                   stream=True)\n        save_response_content(response, toy_data_path)\n        print(\"Download completed!\")\n\n        print(\"Extracting dataset...\")\n        with zipfile.ZipFile(toy_data_path) as loaded_zip:\n            loaded_zip.extractall(data_path)\n        print(\"Extraction completed!\")\n\ndownload_data('dataset')",
   "execution_count": null,
   "outputs": [
    {
     "name": "stdout",
     "text": "Downloading FEVER data splits...\nDownload completed!\nExtracting dataset...\nExtraction completed!\n",
     "output_type": "stream"
    }
   ]
  },
  {
   "cell_type": "code",
   "metadata": {
    "tags": [],
    "cell_id": "00006-32ccc7c2-6b4f-4e70-8e06-57ccbf7057ac",
    "deepnote_to_be_reexecuted": false,
    "source_hash": "761c51e4",
    "execution_start": 1638199643812,
    "execution_millis": 671,
    "deepnote_output_heights": [
     177
    ],
    "deepnote_cell_type": "code"
   },
   "source": "import pandas as pd\ndf_train = pd.read_csv('dataset/train_pairs.csv', delimiter=',')\ndf_train.head()",
   "execution_count": null,
   "outputs": [
    {
     "output_type": "execute_result",
     "execution_count": 4,
     "data": {
      "application/vnd.deepnote.dataframe.v2+json": {
       "row_count": 5,
       "column_count": 5,
       "columns": [
        {
         "name": "Unnamed: 0",
         "dtype": "int64",
         "stats": {
          "unique_count": 5,
          "nan_count": 0,
          "min": "0",
          "max": "4",
          "histogram": [
           {
            "bin_start": 0,
            "bin_end": 0.4,
            "count": 1
           },
           {
            "bin_start": 0.4,
            "bin_end": 0.8,
            "count": 0
           },
           {
            "bin_start": 0.8,
            "bin_end": 1.2000000000000002,
            "count": 1
           },
           {
            "bin_start": 1.2000000000000002,
            "bin_end": 1.6,
            "count": 0
           },
           {
            "bin_start": 1.6,
            "bin_end": 2,
            "count": 0
           },
           {
            "bin_start": 2,
            "bin_end": 2.4000000000000004,
            "count": 1
           },
           {
            "bin_start": 2.4000000000000004,
            "bin_end": 2.8000000000000003,
            "count": 0
           },
           {
            "bin_start": 2.8000000000000003,
            "bin_end": 3.2,
            "count": 1
           },
           {
            "bin_start": 3.2,
            "bin_end": 3.6,
            "count": 0
           },
           {
            "bin_start": 3.6,
            "bin_end": 4,
            "count": 1
           }
          ]
         }
        },
        {
         "name": "Claim",
         "dtype": "object",
         "stats": {
          "unique_count": 5,
          "nan_count": 0,
          "categories": [
           {
            "name": "Chris Hemsworth appeared in A Perfect Getaway.",
            "count": 1
           },
           {
            "name": "Roald Dahl is a writer.",
            "count": 1
           },
           {
            "name": "3 others",
            "count": 3
           }
          ]
         }
        },
        {
         "name": "Evidence",
         "dtype": "object",
         "stats": {
          "unique_count": 3,
          "nan_count": 0,
          "categories": [
           {
            "name": "0\tRoald Dahl -LRB- -LSB- langpronˈroʊ.əld _ ˈdɑːl -RSB- , -LSB- ˈɾuːɑl dɑl -RSB- ; 13 September 1916 -- 23 November 1990 -RRB- was a British novelist , short story writer , poet , screenwriter , and fighter pilot .\tfighter pilot\tfighter pilot",
            "count": 2
           },
           {
            "name": "10\tThe island 's geography comprises relatively low-lying mountains surrounding a central plain , with several navigable rivers extending inland .\tisland\tisland\tgeography\tgeography\tseveral navigable rivers\tRivers of Ireland",
            "count": 2
           },
           {
            "name": "2\tHemsworth has also appeared in the science fiction action film Star Trek -LRB- 2009 -RRB- , the thriller adventure A Perfect Getaway -LRB- 2009 -RRB- , the horror comedy The Cabin in the Woods -LRB- 2012 -RRB- , the dark-fantasy action film Snow White and the Huntsman -LRB- 2012 -RRB- , the war film Red Dawn -LRB- 2012 -RRB- , and the biographical sports drama film Rush -LRB- 2013 -RRB- .\tStar Trek\tStar Trek (film)\tA Perfect Getaway\tA Perfect Getaway\tThe Cabin in the Woods\tThe Cabin in the Woods\tSnow White and the Huntsman\tSnow White and the Huntsman\tRed Dawn\tRed Dawn (2012 film)\tRush\tRush (2013 film)",
            "count": 1
           }
          ]
         }
        },
        {
         "name": "ID",
         "dtype": "int64",
         "stats": {
          "unique_count": 5,
          "nan_count": 0,
          "min": "3",
          "max": "10",
          "histogram": [
           {
            "bin_start": 3,
            "bin_end": 3.7,
            "count": 1
           },
           {
            "bin_start": 3.7,
            "bin_end": 4.4,
            "count": 0
           },
           {
            "bin_start": 4.4,
            "bin_end": 5.1,
            "count": 0
           },
           {
            "bin_start": 5.1,
            "bin_end": 5.8,
            "count": 0
           },
           {
            "bin_start": 5.8,
            "bin_end": 6.5,
            "count": 0
           },
           {
            "bin_start": 6.5,
            "bin_end": 7.199999999999999,
            "count": 1
           },
           {
            "bin_start": 7.199999999999999,
            "bin_end": 7.8999999999999995,
            "count": 0
           },
           {
            "bin_start": 7.8999999999999995,
            "bin_end": 8.6,
            "count": 1
           },
           {
            "bin_start": 8.6,
            "bin_end": 9.3,
            "count": 1
           },
           {
            "bin_start": 9.3,
            "bin_end": 10,
            "count": 1
           }
          ]
         }
        },
        {
         "name": "Label",
         "dtype": "object",
         "stats": {
          "unique_count": 2,
          "nan_count": 0,
          "categories": [
           {
            "name": "SUPPORTS",
            "count": 3
           },
           {
            "name": "REFUTES",
            "count": 2
           }
          ]
         }
        },
        {
         "name": "_deepnote_index_column",
         "dtype": "int64"
        }
       ],
       "rows_top": [
        {
         "Unnamed: 0": 0,
         "Claim": "Chris Hemsworth appeared in A Perfect Getaway.",
         "Evidence": "2\tHemsworth has also appeared in the science fiction action film Star Trek -LRB- 2009 -RRB- , the t…",
         "ID": 3,
         "Label": "SUPPORTS",
         "_deepnote_index_column": 0
        },
        {
         "Unnamed: 0": 1,
         "Claim": "Roald Dahl is a writer.",
         "Evidence": "0\tRoald Dahl -LRB- -LSB- langpronˈroʊ.əld _ ˈdɑːl -RSB- , -LSB- ˈɾuːɑl dɑl -RSB- ; 13 September 191…",
         "ID": 7,
         "Label": "SUPPORTS",
         "_deepnote_index_column": 1
        },
        {
         "Unnamed: 0": 2,
         "Claim": "Roald Dahl is a governor.",
         "Evidence": "0\tRoald Dahl -LRB- -LSB- langpronˈroʊ.əld _ ˈdɑːl -RSB- , -LSB- ˈɾuːɑl dɑl -RSB- ; 13 September 191…",
         "ID": 8,
         "Label": "REFUTES",
         "_deepnote_index_column": 2
        },
        {
         "Unnamed: 0": 3,
         "Claim": "Ireland has relatively low-lying mountains.",
         "Evidence": "10\tThe island 's geography comprises relatively low-lying mountains surrounding a central plain , w…",
         "ID": 9,
         "Label": "SUPPORTS",
         "_deepnote_index_column": 3
        },
        {
         "Unnamed: 0": 4,
         "Claim": "Ireland does not have relatively low-lying mountains.",
         "Evidence": "10\tThe island 's geography comprises relatively low-lying mountains surrounding a central plain , w…",
         "ID": 10,
         "Label": "REFUTES",
         "_deepnote_index_column": 4
        }
       ],
       "rows_bottom": null
      },
      "text/plain": "   Unnamed: 0                                              Claim  \\\n0           0     Chris Hemsworth appeared in A Perfect Getaway.   \n1           1                            Roald Dahl is a writer.   \n2           2                          Roald Dahl is a governor.   \n3           3        Ireland has relatively low-lying mountains.   \n4           4  Ireland does not have relatively low-lying mou...   \n\n                                            Evidence  ID     Label  \n0  2\\tHemsworth has also appeared in the science ...   3  SUPPORTS  \n1  0\\tRoald Dahl -LRB- -LSB- langpronˈroʊ.əld _ ˈ...   7  SUPPORTS  \n2  0\\tRoald Dahl -LRB- -LSB- langpronˈroʊ.əld _ ˈ...   8   REFUTES  \n3  10\\tThe island 's geography comprises relative...   9  SUPPORTS  \n4  10\\tThe island 's geography comprises relative...  10   REFUTES  ",
      "text/html": "<div>\n<style scoped>\n    .dataframe tbody tr th:only-of-type {\n        vertical-align: middle;\n    }\n\n    .dataframe tbody tr th {\n        vertical-align: top;\n    }\n\n    .dataframe thead th {\n        text-align: right;\n    }\n</style>\n<table border=\"1\" class=\"dataframe\">\n  <thead>\n    <tr style=\"text-align: right;\">\n      <th></th>\n      <th>Unnamed: 0</th>\n      <th>Claim</th>\n      <th>Evidence</th>\n      <th>ID</th>\n      <th>Label</th>\n    </tr>\n  </thead>\n  <tbody>\n    <tr>\n      <th>0</th>\n      <td>0</td>\n      <td>Chris Hemsworth appeared in A Perfect Getaway.</td>\n      <td>2\\tHemsworth has also appeared in the science ...</td>\n      <td>3</td>\n      <td>SUPPORTS</td>\n    </tr>\n    <tr>\n      <th>1</th>\n      <td>1</td>\n      <td>Roald Dahl is a writer.</td>\n      <td>0\\tRoald Dahl -LRB- -LSB- langpronˈroʊ.əld _ ˈ...</td>\n      <td>7</td>\n      <td>SUPPORTS</td>\n    </tr>\n    <tr>\n      <th>2</th>\n      <td>2</td>\n      <td>Roald Dahl is a governor.</td>\n      <td>0\\tRoald Dahl -LRB- -LSB- langpronˈroʊ.əld _ ˈ...</td>\n      <td>8</td>\n      <td>REFUTES</td>\n    </tr>\n    <tr>\n      <th>3</th>\n      <td>3</td>\n      <td>Ireland has relatively low-lying mountains.</td>\n      <td>10\\tThe island 's geography comprises relative...</td>\n      <td>9</td>\n      <td>SUPPORTS</td>\n    </tr>\n    <tr>\n      <th>4</th>\n      <td>4</td>\n      <td>Ireland does not have relatively low-lying mou...</td>\n      <td>10\\tThe island 's geography comprises relative...</td>\n      <td>10</td>\n      <td>REFUTES</td>\n    </tr>\n  </tbody>\n</table>\n</div>"
     },
     "metadata": {}
    }
   ]
  },
  {
   "cell_type": "code",
   "metadata": {
    "tags": [],
    "cell_id": "00007-a71b9400-ed96-45ba-a30c-167cd6a46d96",
    "deepnote_cell_type": "code"
   },
   "source": "",
   "execution_count": null,
   "outputs": []
  },
  {
   "cell_type": "markdown",
   "source": "# Classification dataset\n\nAt this point, you should have a reay-to-go dataset! Note that the dataset format changed as well! In particular, we split the evidence set associated to each claim, in order to build `(claim, evidence)` pairs. The classification label is propagated as well.\n\nWe'll motivate this decision in the next section!\n\nJust for clarity, here's an example of the pre-processed dataset:\n\n---\n\n**Claim**: \"Wentworth Miller is yet to make his screenwriting debut.\"\n\n**Evidence**: \"2\tHe made his screenwriting debut with the 2013 thriller film Stoker .\tStoker\tStoker (film)\"\n\n**Label**: Refutes\n\n---\n\n[**Note**]: The dataset requires some text cleaning as you may have noticed!\n",
   "metadata": {
    "id": "RbH_8errW5MH",
    "cell_id": "00006-b66a8e35-2c35-41b8-8115-d5ed1468be18",
    "deepnote_cell_type": "markdown"
   }
  },
  {
   "cell_type": "markdown",
   "source": "# Problem formulation\n\nAs mentioned at the beginning of the assignment, we are going to formulate the fact checking problem as a binary classification task.\n\nIn particular, each dataset sample is comprised of:\n\n*     A claim to verify\n*     A set of semantically related statements (evidence set)\n*     Fact checking label: either evidences support or refute the claim.\n\nHandling the evidence set from the point of view of neural models may imply some additional complexity: if the evidence set is comprised of several sentences we might incur in memory problems.\n\nTo this end, we further simplify the problem by building (claim, evidence) pairs. The fact checking label is propagated as well.\n\nExample:\n\n     Claim: c1 \n     Evidence set: [e1, e2, e3]\n     Label: S (support)\n\n--->\n\n    (c1, e1, S),\n    (c1, e2, S),\n    (c1, e3, S)",
   "metadata": {
    "id": "gH8hIK21Xrl0",
    "cell_id": "00007-2fc34d5f-95bd-4847-888a-411d8af04b73",
    "deepnote_cell_type": "markdown"
   }
  },
  {
   "cell_type": "markdown",
   "source": "## 4.1 Schema\n\nThe overall binary classification problem is summed up by the following (simplified) schema\n\n![](https://drive.google.com/uc?export=view&id=1Wm_YBnFwgJtxcWEBpPbTBEVkpKaL08Jp)\n\nDon't worry too much about the **Encoding** block for now. We'll give you some simple guidelines about its definition. For the moment, stick to the binary classification task definition where, in this case, we have 2 inputs: the claim to verify and one of its associated evidences.",
   "metadata": {
    "id": "E46flIz_zQy-",
    "cell_id": "00008-1ab99489-6b6b-4d4b-a293-62cde3f93f19",
    "deepnote_cell_type": "markdown"
   }
  },
  {
   "cell_type": "markdown",
   "source": "# Architecture Guidelines\n\nThere are many neural architectures that follow the above schema. To avoid phenomena like the writer's block, in this section we are going to give you some implementation guidelines.\n\nIn particular, we would like you to test some implementations so that you explore basic approaches (neural baselines) and use them as building blocks for possible extensions.",
   "metadata": {
    "id": "LsiTV-NVdgsF",
    "cell_id": "00009-0319cf43-98e1-4f4a-b48d-9a76fbdbdd1b",
    "deepnote_cell_type": "markdown"
   }
  },
  {
   "cell_type": "markdown",
   "source": "## 5.1 Handling multiple inputs\n\nThe first thing to notice is that we are in a multi-input scenario. In particular, each sample is comprised of a fact and its asssociated evidence statement.\n\nEach of these input is encoded as a sequence of tokens. In particular, we will have the following input matrices:\n\n*    Claim: `[batch_size, max_tokens]`\n*    Evidence: `[batch_size, max_tokens]`\n\nMoreover, after the embedding layer, we'll have:\n\n*    Claim: `[batch_size, max_tokens, embedding_dim]`\n*    Evidence: `[batch_size, max_tokens, embedding_dim]`\n\nBut, we would like to have a 2D input to our classifier, since we have to give an answer at pair level. Therefore, for each sample, we would expect the following input shape to our classification block:\n\n*   Classification input shape: `[batch_size, dim]`\n\n**How to do that?**\n\nWe inherently need to reduce the token sequence to a single representation. This operation is formally known as **sentence embedding**. Indeed, we are trying to compress the information of a whole sequence into a single embedding vector.\n\nHere are some simple solutions that we ask you to try out:\n\n1.   Encode token sequences via a RNN and take the last state as the sentence embedding.\n\n2.  Encode token sequences via a RNN and average all the output states.\n\n3.  Encode token sequences via a simple MLP layer. In particular, if your input is a `[batch_size, max_tokens, embedding_dim]` tensor, the matrix multiplication works on the **max_tokens** dimension, resulting in a `[batch_size, embedding_dim]` 2D matrix. Alternatively, you can reshape the 3D input tensor from `[batch_size, max_tokens, embedding_dim]` to `[batch_size, max_tokens * embedding_dim]` and then apply the MLP layer.\n\n4.   Compute the sentence embedding as the mean of its token embeddings (**bag of vectors**).",
   "metadata": {
    "id": "ZJBQm47fe7iE",
    "cell_id": "00010-26141dbc-9466-4628-810b-610715f58982",
    "deepnote_cell_type": "markdown"
   }
  },
  {
   "cell_type": "markdown",
   "source": "## 5.2 Merging multi-inputs\n\nAt this point, we have to think about **how** we should merge evidence and claim sentence embeddings.\n\nFor simplicity, we stick to simple merging strategies:\n\n*     **Concatenation**: define the classification input as the concatenation of evidence and claim sentence embeddings\n\n*     **Sum**: define the classification input as the sum of evidence and claim sentence embeddings\n\n*     **Mean**: define the classification input as the mean of evidence and claim sentence embeddings\n\nFor clarity, if the sentence embedding of a single input has shape `[batch_size, embedding_dim]`, then the classification input has shape:\n\n*     **Concatenation**: `[batch_size, 2 * embedding_dim]`\n\n*     **Sum**: `[batch_size, embedding_dim]`\n\n*     **Mean**: `[batch_size, embedding_dim]`",
   "metadata": {
    "id": "Gypl5z5ElJo1",
    "cell_id": "00011-9ddef210-2d5c-41c3-a37d-92a303b7f872",
    "deepnote_cell_type": "markdown"
   }
  },
  {
   "cell_type": "markdown",
   "source": "# A simple extension\n\nLastly, we ask you to modify previously defined neural architectures by adding an additional feature to the classification input.\n\nWe would like to see if some similarity information between the claim to verify and one of its associated evidence might be useful to the classification.\n\nCompute the cosine similarity metric between the two sentence embeddings and concatenate the result to the classification input.\n\nFor clarity, since the cosine similarity of two vectors outputs a scalar value, the classification input shape is modified as follows:\n\n*     **Concatenation**: `[batch_size, 2 * embedding_dim + 1]`\n\n*     **Sum**: `[batch_size, embedding_dim + 1]`\n\n*     **Mean**: `[batch_size, embedding_dim + 1]`\n\n",
   "metadata": {
    "id": "IhVg9ZLymOUc",
    "cell_id": "00012-bf7d4bfb-8f19-445d-a6c3-09bce5139ea3",
    "deepnote_cell_type": "markdown"
   }
  },
  {
   "cell_type": "markdown",
   "source": "# Performance evaluation\n\nDue to our simplifications, obtained results are not directly compatible with a traditional fact checking method that considers the evidence set as a whole.\n\nThus, we need to consider two types of evaluations.\n\n---\n\nA. **Multi-input classification evaluation**\n\nThis type of evaluation is the easiest and concerns computing evaluation metrics, such as accuracy, f1-score, recall and precision, of our pre-processed dataset.\n\nIn other words, we assess the performance of chosen classifiers.\n\n---\n\nB. **Claim verification evaluation**\n\nHowever, if we want to give an answer concerning the claim itself, we need to consider the whole evidence set. \n\nIntuitively, for a given claim, we consider all its corresponding (claim, evidence) pairs and their corresponding classification outputs. \n\nAt this point, all we need to do is to compute the final predicted claim label via majority voting.\n\n---\n\nExample:\n\n    Claim: c1\n    Evidence set: e1, e2, e3\n    True label: S\n\n    Pair outputs:\n    (c1, e1) -> S (supports)\n    (c1, e2) -> S (supports)\n    (c1, e3) -> R (refutes)\n\n    Majority voting:\n    S -> 2 votes\n    R -> 1 vote\n\n    Final label:\n    c1 -> S\n\nLastly, we have to compute classification metrics just like before.\n\nShortly speaking, implement both strategies for your classification metrics.",
   "metadata": {
    "id": "Nd74ULgpnJrc",
    "cell_id": "00013-88592ba8-4191-4720-b019-d9967a77cf24",
    "deepnote_cell_type": "markdown"
   }
  },
  {
   "cell_type": "markdown",
   "source": "# Tips and Extras",
   "metadata": {
    "id": "W4LJ2yPxsUOV",
    "cell_id": "00014-636aa370-2dcf-40b7-bad2-58c988c574da",
    "deepnote_cell_type": "markdown"
   }
  },
  {
   "cell_type": "markdown",
   "source": "## 8.1 Extensions are welcome!\n\nIs this task too easy for you? Are you curious to try out things you have seen during lectures (e.g. attention)? Feel free to try everything you want!\n\n**Don't forget to try neural baselines first!**",
   "metadata": {
    "id": "Uf80UVRNrXve",
    "cell_id": "00015-4f71d546-0cf9-4ec4-b3e3-b3dc3ddaf661",
    "deepnote_cell_type": "markdown"
   }
  },
  {
   "cell_type": "markdown",
   "source": "## 8.2 Comments and documentation\n\nRemember to properly comment your code (it is not necessary to comment each single line) and don't forget to describe your work!",
   "metadata": {
    "id": "COXeCXdYsBEf",
    "cell_id": "00016-561cfaf4-f8a0-4ca5-854b-067654419f3b",
    "deepnote_cell_type": "markdown"
   }
  },
  {
   "cell_type": "markdown",
   "source": "## 8.3 Organization\n\nWe suggest you to divide your work into sections. This allows you to build clean and modular code, as well as easy to read and to debug.\n\nA possible schema:\n\n*   Dataset pre-processing\n*   Dataset conversion\n*   Model definition\n*   Training\n*   Evaluation\n*   Comments/Summary",
   "metadata": {
    "id": "Ejv6SDE8xc4_",
    "cell_id": "00017-5d76c3e8-6af1-4265-a285-a66e2719e03e",
    "deepnote_cell_type": "markdown"
   }
  },
  {
   "cell_type": "markdown",
   "source": "# Evaluation\n\nWhich are the evaluation criteria on which we'll judge you and your work?\n\n1. Pre-processing: whether you have done some pre-processing or not.\n2. Sentence embedding: you should implement all required strategies (with an example and working code for each). That is, we, as evaluators, should be able to test all strategies without writing down new code.\n3. Multiple inputs merging strategies: you should implement all required strategies (with an example and working code for each).\n4. Similarity extension: you should implement the cosine similarity extension (with an example and working code).\n5. Voting strategy: you should implement the majority voting strategy and provide results.\n6. Report: when submitting your notebook, you should also attach a small summary report that describes what you have done (provide motivations as well for abitrary steps. For instance, \"We've applied L2 regularization since the model was overfitting\".\n\nExtras (possible extra points):\n\n1. Any well defined extension is welcome!\n2. Well organized and commented code is as important as any other criteria.",
   "metadata": {
    "id": "19QWjgGzIKOq",
    "cell_id": "00018-b0113a6f-6656-4031-916e-ac062ee88e45",
    "deepnote_cell_type": "markdown"
   }
  },
  {
   "cell_type": "markdown",
   "source": "# Contact\n\nFor any doubt, question, issue or help, you can always contact us at the following email addresses:\n\nTeaching Assistants:\n\n* Andrea Galassi -> a.galassi@unibo.it\n* Federico Ruggeri -> federico.ruggeri6@unibo.it\n\nProfessor:\n\n* Paolo Torroni -> p.torroni@unibo.it\n\n*Note*: We highly recommend you to check the [course useful material](https://virtuale.unibo.it/pluginfile.php/1036039/mod_resource/content/2/NLP_Course_Useful_Material.pdf) for additional information before contacting us!",
   "metadata": {
    "id": "9DR70uh7pabo",
    "cell_id": "00019-814643c8-968b-43de-9747-f29a28b7d94f",
    "deepnote_cell_type": "markdown"
   }
  },
  {
   "cell_type": "markdown",
   "source": "# FAQ\n\n---\n\n**Question**: Can I do something text pre-processing?\n\n**Answer:** You have to! If you check text data, the majority of sentences need some cleaning.\n\n---\n\n**Question**: The model architecture schema is not so clear, are we doing end-to-end training?\n\n**Answer**: Exactly! All models can be thought as:\n\n1. Input\n2. (word) Embedding\n3. Sentence embedding\n4. Multiple inputs merging\n5. Classification\n\n---\n\n**Question**: Can I extend models by adding more layers?\n\n**Answer**: Feel free to define model architectures as you wish, but remember satisfy our requirements. This assignment should not be thought as a competition to achieve the best performing model: fancy students that want to show off but miss required assignment objectives will be punished!!\n\n---\n\n**Question**: I'm struggling with the implementation. Can you help me?\n\n**Answer**: Yes sure! Contact us and describe your issue. If you are looking for a particular type of operation, you can easily check the documentation of the deep learning framework you are using (google is your friend).\n\n---\n\n**Question**: Can I try other encoding strategies or neural architectures?\n\n**Answer:** Absolutely! Remember to try out recommended neural baselines first and only then proceed with your extensions.\n\n---\n\n**Question**: Do we have to test all possible sentence embedding and input merging combinations?\n\n**Answer**: Absolutely no! Feel free to pick one sentence embedding strategy and try all possible input merging strategies with it! For instance, pick the best performing sentence embedding method and proceed with next steps (extras included). Please, note that you still have to implement all mentioned strategies!\n\n---\n\n**Question**: I'm hitting out of memory error when training my models, do you have any suggestions?\n\n**Answer**: Here are some common workarounds:\n\n1. Try decreasing the mini-batch size\n2. Try applying a different padding strategy (if you are applying padding): e.g. use quantiles instead of maximum sequence length\n3. Check the efficiency of your custom code implementation (if any)\n4. Try to define same length mini-batches to avoid padding (**It should not be necessary here!**)\n\n---\n\n**Question**: I'm hitting CUDNN_STATUS_BAD_PARAM error! What I'm doing wrong?\n\n**Answer**: This error is a little bit tricky since the stack trace is not meaningful at all! This error occurs when the RNN is fed with a sequence of all 0s and pad masking is enabled (e.g. from the embedding layer). Please, check your conversion step, since there might be an error that leads to the encoding of a sentence to all 0s.\n\n---",
   "metadata": {
    "id": "Jc0gNWU2pgKQ",
    "cell_id": "00020-76d4deb9-b28a-46d9-824a-ba52fc12b90d",
    "deepnote_cell_type": "markdown"
   }
  },
  {
   "cell_type": "markdown",
   "source": "<a style='text-decoration:none;line-height:16px;display:flex;color:#5B5B62;padding:10px;justify-content:end;' href='https://deepnote.com?utm_source=created-in-deepnote-cell&projectId=e9c61a29-08c2-4eab-ac12-cdf7b972c02c' target=\"_blank\">\n<img alt='Created in deepnote.com' style='display:inline;max-height:16px;margin:0px;margin-right:7.5px;' src='data:image/svg+xml;base64,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' > </img>\nCreated in <span style='font-weight:600;margin-left:4px;'>Deepnote</span></a>",
   "metadata": {
    "tags": [],
    "created_in_deepnote_cell": true,
    "deepnote_cell_type": "markdown"
   }
  }
 ],
 "nbformat": 4,
 "nbformat_minor": 0,
 "metadata": {
  "colab": {
   "name": "Assignment_2.ipynb",
   "provenance": [],
   "toc_visible": true
  },
  "kernelspec": {
   "name": "python3",
   "display_name": "Python 3"
  },
  "deepnote_notebook_id": "0ed8e114-6db4-415f-ac93-0361d38df4e5",
  "deepnote": {},
  "deepnote_execution_queue": []
 }
}